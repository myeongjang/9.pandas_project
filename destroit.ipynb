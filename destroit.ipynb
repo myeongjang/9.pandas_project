{
 "cells": [
  {
   "cell_type": "code",
   "execution_count": 1,
   "metadata": {},
   "outputs": [],
   "source": [
    "import numpy as np\n",
    "import matplotlib.pyplot as plt\n",
    "import pandas as pd\n",
    "import re\n",
    "import os \n",
    "import sys\n",
    "import warnings\n",
    "warnings.simplefilter(action = 'ignore')"
   ]
  },
  {
   "cell_type": "code",
   "execution_count": 2,
   "metadata": {},
   "outputs": [],
   "source": [
    "crime_data = pd.read_csv('/0.ITstudy/9.pandas_data/aaaDPD__All_Crime_Incidents__December_6__2016_-_Present.csv')\n"
   ]
  },
  {
   "cell_type": "code",
   "execution_count": 3,
   "metadata": {},
   "outputs": [
    {
     "data": {
      "text/html": [
       "<div>\n",
       "<style scoped>\n",
       "    .dataframe tbody tr th:only-of-type {\n",
       "        vertical-align: middle;\n",
       "    }\n",
       "\n",
       "    .dataframe tbody tr th {\n",
       "        vertical-align: top;\n",
       "    }\n",
       "\n",
       "    .dataframe thead th {\n",
       "        text-align: right;\n",
       "    }\n",
       "</style>\n",
       "<table border=\"1\" class=\"dataframe\">\n",
       "  <thead>\n",
       "    <tr style=\"text-align: right;\">\n",
       "      <th></th>\n",
       "      <th>Crime ID</th>\n",
       "      <th>Report #</th>\n",
       "      <th>Incident Address</th>\n",
       "      <th>Offense Description</th>\n",
       "      <th>Offense Category</th>\n",
       "      <th>Arrest Charge</th>\n",
       "      <th>Charge Description</th>\n",
       "      <th>State Offense Code</th>\n",
       "      <th>Incident Date &amp; Time</th>\n",
       "      <th>Incident Time (24h)</th>\n",
       "      <th>...</th>\n",
       "      <th>Precinct Number</th>\n",
       "      <th>Census Block GEOID</th>\n",
       "      <th>Neighborhood</th>\n",
       "      <th>Council District</th>\n",
       "      <th>Zip Code</th>\n",
       "      <th>Longitude</th>\n",
       "      <th>Latitude</th>\n",
       "      <th>IBR Report Date</th>\n",
       "      <th>Location</th>\n",
       "      <th>uniq</th>\n",
       "    </tr>\n",
       "  </thead>\n",
       "  <tbody>\n",
       "    <tr>\n",
       "      <th>0</th>\n",
       "      <td>3104611</td>\n",
       "      <td>1708150123</td>\n",
       "      <td>5000 block of LANNOO ST</td>\n",
       "      <td>MOTOR VEHICLE THEFT</td>\n",
       "      <td>STOLEN VEHICLE</td>\n",
       "      <td>24001</td>\n",
       "      <td>MOTOR VEHICLE THEFT</td>\n",
       "      <td>2401</td>\n",
       "      <td>08/14/2017 05:00:00 PM</td>\n",
       "      <td>1700</td>\n",
       "      <td>...</td>\n",
       "      <td>5</td>\n",
       "      <td>2.616350e+14</td>\n",
       "      <td>Cornerstone Village</td>\n",
       "      <td>4.0</td>\n",
       "      <td>NaN</td>\n",
       "      <td>-82.912447</td>\n",
       "      <td>42.415611</td>\n",
       "      <td>08/16/2017 01:48:20 PM</td>\n",
       "      <td>location\\n(42.41561, -82.91245)</td>\n",
       "      <td>56,994</td>\n",
       "    </tr>\n",
       "    <tr>\n",
       "      <th>1</th>\n",
       "      <td>3107714</td>\n",
       "      <td>1708220195</td>\n",
       "      <td>Corner of MACKENZIE ST and MARK TWAIN ST</td>\n",
       "      <td>ROBBERY</td>\n",
       "      <td>ROBBERY</td>\n",
       "      <td>12000</td>\n",
       "      <td>ROBBERY</td>\n",
       "      <td>1201</td>\n",
       "      <td>08/22/2017 02:04:00 PM</td>\n",
       "      <td>1404</td>\n",
       "      <td>...</td>\n",
       "      <td>2</td>\n",
       "      <td>2.616350e+14</td>\n",
       "      <td>Joy-Schaefer</td>\n",
       "      <td>7.0</td>\n",
       "      <td>NaN</td>\n",
       "      <td>-83.184692</td>\n",
       "      <td>42.356050</td>\n",
       "      <td>09/13/2017 10:16:26 AM</td>\n",
       "      <td>location\\n(42.35605, -83.18469)</td>\n",
       "      <td>58,749</td>\n",
       "    </tr>\n",
       "    <tr>\n",
       "      <th>2</th>\n",
       "      <td>3104644</td>\n",
       "      <td>1708150160</td>\n",
       "      <td>16900 block of W CHICAGO ST</td>\n",
       "      <td>LARCENY - PERSONAL PROPERTY FROM MOTOR VEHICLE</td>\n",
       "      <td>LARCENY</td>\n",
       "      <td>23005</td>\n",
       "      <td>LARCENY - PERSONAL PROPERTY FROM MOTOR VEHICLE</td>\n",
       "      <td>2305</td>\n",
       "      <td>08/14/2017 04:00:00 PM</td>\n",
       "      <td>1600</td>\n",
       "      <td>...</td>\n",
       "      <td>6</td>\n",
       "      <td>2.616350e+14</td>\n",
       "      <td>Joy Community</td>\n",
       "      <td>7.0</td>\n",
       "      <td>NaN</td>\n",
       "      <td>-83.211945</td>\n",
       "      <td>42.365163</td>\n",
       "      <td>08/16/2017 01:48:20 PM</td>\n",
       "      <td>location\\n(42.36516, -83.21195)</td>\n",
       "      <td>57,012</td>\n",
       "    </tr>\n",
       "    <tr>\n",
       "      <th>3</th>\n",
       "      <td>3104651</td>\n",
       "      <td>1708150159</td>\n",
       "      <td>11700 block of NASHVILLE ST</td>\n",
       "      <td>BURGLARY - FORCED ENTRY</td>\n",
       "      <td>BURGLARY</td>\n",
       "      <td>22001</td>\n",
       "      <td>BURGLARY - FORCED ENTRY</td>\n",
       "      <td>2201</td>\n",
       "      <td>08/13/2017 03:00:00 PM</td>\n",
       "      <td>1500</td>\n",
       "      <td>...</td>\n",
       "      <td>9</td>\n",
       "      <td>2.616350e+14</td>\n",
       "      <td>LaSalle College Park</td>\n",
       "      <td>4.0</td>\n",
       "      <td>NaN</td>\n",
       "      <td>-83.000401</td>\n",
       "      <td>42.417198</td>\n",
       "      <td>08/28/2017 09:30:06 AM</td>\n",
       "      <td>location\\n(42.4172, -83.0004)</td>\n",
       "      <td>57,017</td>\n",
       "    </tr>\n",
       "    <tr>\n",
       "      <th>4</th>\n",
       "      <td>3104659</td>\n",
       "      <td>1708150184</td>\n",
       "      <td>19600 block of SCHOENHERR ST</td>\n",
       "      <td>FAMILY - OTHER</td>\n",
       "      <td>FAMILY OFFENSE</td>\n",
       "      <td>38003</td>\n",
       "      <td>FAMILY - OTHER</td>\n",
       "      <td>3803</td>\n",
       "      <td>08/15/2017 12:41:00 PM</td>\n",
       "      <td>1241</td>\n",
       "      <td>...</td>\n",
       "      <td>9</td>\n",
       "      <td>2.616350e+14</td>\n",
       "      <td>Pulaski</td>\n",
       "      <td>3.0</td>\n",
       "      <td>NaN</td>\n",
       "      <td>-82.985353</td>\n",
       "      <td>42.439755</td>\n",
       "      <td>08/16/2017 01:48:20 PM</td>\n",
       "      <td>location\\n(42.43975, -82.98535)</td>\n",
       "      <td>57,023</td>\n",
       "    </tr>\n",
       "  </tbody>\n",
       "</table>\n",
       "<p>5 rows × 24 columns</p>\n",
       "</div>"
      ],
      "text/plain": [
       "   Crime ID    Report #                          Incident Address  \\\n",
       "0   3104611  1708150123                   5000 block of LANNOO ST   \n",
       "1   3107714  1708220195  Corner of MACKENZIE ST and MARK TWAIN ST   \n",
       "2   3104644  1708150160               16900 block of W CHICAGO ST   \n",
       "3   3104651  1708150159               11700 block of NASHVILLE ST   \n",
       "4   3104659  1708150184              19600 block of SCHOENHERR ST   \n",
       "\n",
       "                              Offense Description Offense Category  \\\n",
       "0                             MOTOR VEHICLE THEFT   STOLEN VEHICLE   \n",
       "1                                         ROBBERY          ROBBERY   \n",
       "2  LARCENY - PERSONAL PROPERTY FROM MOTOR VEHICLE          LARCENY   \n",
       "3                         BURGLARY - FORCED ENTRY         BURGLARY   \n",
       "4                                  FAMILY - OTHER   FAMILY OFFENSE   \n",
       "\n",
       "  Arrest Charge                              Charge Description  \\\n",
       "0         24001                             MOTOR VEHICLE THEFT   \n",
       "1         12000                                         ROBBERY   \n",
       "2         23005  LARCENY - PERSONAL PROPERTY FROM MOTOR VEHICLE   \n",
       "3         22001                         BURGLARY - FORCED ENTRY   \n",
       "4         38003                                  FAMILY - OTHER   \n",
       "\n",
       "   State Offense Code    Incident Date & Time  Incident Time (24h)   ...    \\\n",
       "0                2401  08/14/2017 05:00:00 PM                 1700   ...     \n",
       "1                1201  08/22/2017 02:04:00 PM                 1404   ...     \n",
       "2                2305  08/14/2017 04:00:00 PM                 1600   ...     \n",
       "3                2201  08/13/2017 03:00:00 PM                 1500   ...     \n",
       "4                3803  08/15/2017 12:41:00 PM                 1241   ...     \n",
       "\n",
       "   Precinct Number  Census Block GEOID          Neighborhood Council District  \\\n",
       "0                5        2.616350e+14   Cornerstone Village              4.0   \n",
       "1                2        2.616350e+14          Joy-Schaefer              7.0   \n",
       "2                6        2.616350e+14         Joy Community              7.0   \n",
       "3                9        2.616350e+14  LaSalle College Park              4.0   \n",
       "4                9        2.616350e+14               Pulaski              3.0   \n",
       "\n",
       "  Zip Code  Longitude   Latitude         IBR Report Date  \\\n",
       "0      NaN -82.912447  42.415611  08/16/2017 01:48:20 PM   \n",
       "1      NaN -83.184692  42.356050  09/13/2017 10:16:26 AM   \n",
       "2      NaN -83.211945  42.365163  08/16/2017 01:48:20 PM   \n",
       "3      NaN -83.000401  42.417198  08/28/2017 09:30:06 AM   \n",
       "4      NaN -82.985353  42.439755  08/16/2017 01:48:20 PM   \n",
       "\n",
       "                          Location    uniq  \n",
       "0  location\\n(42.41561, -82.91245)  56,994  \n",
       "1  location\\n(42.35605, -83.18469)  58,749  \n",
       "2  location\\n(42.36516, -83.21195)  57,012  \n",
       "3    location\\n(42.4172, -83.0004)  57,017  \n",
       "4  location\\n(42.43975, -82.98535)  57,023  \n",
       "\n",
       "[5 rows x 24 columns]"
      ]
     },
     "execution_count": 3,
     "metadata": {},
     "output_type": "execute_result"
    }
   ],
   "source": [
    "crime_data.head()"
   ]
  },
  {
   "cell_type": "code",
   "execution_count": 4,
   "metadata": {},
   "outputs": [
    {
     "name": "stdout",
     "output_type": "stream",
     "text": [
      "<class 'pandas.core.frame.DataFrame'>\n",
      "RangeIndex: 166268 entries, 0 to 166267\n",
      "Data columns (total 24 columns):\n",
      "Crime ID                     166268 non-null int64\n",
      "Report #                     166268 non-null object\n",
      "Incident Address             166268 non-null object\n",
      "Offense Description          166268 non-null object\n",
      "Offense Category             166268 non-null object\n",
      "Arrest Charge                166268 non-null object\n",
      "Charge Description           166268 non-null object\n",
      "State Offense Code           166268 non-null int64\n",
      "Incident Date & Time         166268 non-null object\n",
      "Incident Time (24h)          166268 non-null int64\n",
      "Day of Week (Sunday is 1)    166268 non-null int64\n",
      "Hour of Day                  166268 non-null int64\n",
      "Year                         166268 non-null int64\n",
      "Scout Car Area               166268 non-null object\n",
      "Precinct Number              166268 non-null object\n",
      "Census Block GEOID           165347 non-null float64\n",
      "Neighborhood                 163947 non-null object\n",
      "Council District             164039 non-null float64\n",
      "Zip Code                     0 non-null float64\n",
      "Longitude                    165441 non-null float64\n",
      "Latitude                     165441 non-null float64\n",
      "IBR Report Date              166268 non-null object\n",
      "Location                     165441 non-null object\n",
      "uniq                         166268 non-null object\n",
      "dtypes: float64(5), int64(6), object(13)\n",
      "memory usage: 30.4+ MB\n"
     ]
    }
   ],
   "source": [
    "crime_data.info()"
   ]
  },
  {
   "cell_type": "code",
   "execution_count": 5,
   "metadata": {},
   "outputs": [
    {
     "data": {
      "text/plain": [
       "Crime ID                     False\n",
       "Report #                     False\n",
       "Incident Address             False\n",
       "Offense Description          False\n",
       "Offense Category             False\n",
       "Arrest Charge                False\n",
       "Charge Description           False\n",
       "State Offense Code           False\n",
       "Incident Date & Time         False\n",
       "Incident Time (24h)          False\n",
       "Day of Week (Sunday is 1)    False\n",
       "Hour of Day                  False\n",
       "Year                         False\n",
       "Scout Car Area               False\n",
       "Precinct Number              False\n",
       "Census Block GEOID            True\n",
       "Neighborhood                  True\n",
       "Council District              True\n",
       "Zip Code                      True\n",
       "Longitude                     True\n",
       "Latitude                      True\n",
       "IBR Report Date              False\n",
       "Location                      True\n",
       "uniq                         False\n",
       "dtype: bool"
      ]
     },
     "execution_count": 5,
     "metadata": {},
     "output_type": "execute_result"
    }
   ],
   "source": [
    "crime_data.isnull().any()"
   ]
  },
  {
   "cell_type": "code",
   "execution_count": 6,
   "metadata": {},
   "outputs": [
    {
     "data": {
      "text/plain": [
       "array(['STOLEN VEHICLE', 'ROBBERY', 'LARCENY', 'BURGLARY',\n",
       "       'FAMILY OFFENSE', 'DANGEROUS DRUGS', 'DAMAGE TO PROPERTY',\n",
       "       'ASSAULT', 'AGGRAVATED ASSAULT', 'SEX OFFENSES',\n",
       "       'WEAPONS OFFENSES', 'DISORDERLY CONDUCT', 'HOMICIDE', 'FORGERY',\n",
       "       'OUIL', 'FRAUD', 'SEXUAL ASSAULT', 'OBSTRUCTING JUDICIARY',\n",
       "       'LIQUOR', 'ARSON', 'OBSTRUCTING THE POLICE', 'KIDNAPPING',\n",
       "       'MISCELLANEOUS', 'OTHER', 'STOLEN PROPERTY', 'SOLICITATION',\n",
       "       'RUNAWAY', 'JUSTIFIABLE HOMICIDE', 'EXTORTION', 'GAMBLING'],\n",
       "      dtype=object)"
      ]
     },
     "execution_count": 6,
     "metadata": {},
     "output_type": "execute_result"
    }
   ],
   "source": [
    "crime_data['Offense Category'].unique()"
   ]
  },
  {
   "cell_type": "code",
   "execution_count": 7,
   "metadata": {},
   "outputs": [
    {
     "data": {
      "text/plain": [
       "30"
      ]
     },
     "execution_count": 7,
     "metadata": {},
     "output_type": "execute_result"
    }
   ],
   "source": [
    "len(crime_data['Offense Category'].unique())"
   ]
  },
  {
   "cell_type": "code",
   "execution_count": 38,
   "metadata": {},
   "outputs": [
    {
     "data": {
      "text/plain": [
       "512"
      ]
     },
     "execution_count": 38,
     "metadata": {},
     "output_type": "execute_result"
    }
   ],
   "source": [
    "crime_data.loc[(crime_data['Offense Category'] =='HOMICIDE'),'Offense Category'].count()"
   ]
  },
  {
   "cell_type": "code",
   "execution_count": 8,
   "metadata": {},
   "outputs": [],
   "source": [
    "def year_ex(x):\n",
    "    year_reg = re.compile(r'\\d{4}')\n",
    "    return(year_reg.findall(x)[0])"
   ]
  },
  {
   "cell_type": "code",
   "execution_count": 9,
   "metadata": {},
   "outputs": [],
   "source": [
    "dummy = crime_data.copy()\n",
    "dummy['year']  = dummy['IBR Report Date'].apply(year_ex)"
   ]
  },
  {
   "cell_type": "code",
   "execution_count": 10,
   "metadata": {},
   "outputs": [
    {
     "data": {
      "text/plain": [
       "(166268, 25)"
      ]
     },
     "execution_count": 10,
     "metadata": {},
     "output_type": "execute_result"
    }
   ],
   "source": [
    "dummy.shape"
   ]
  },
  {
   "cell_type": "code",
   "execution_count": 11,
   "metadata": {},
   "outputs": [
    {
     "data": {
      "text/html": [
       "<div>\n",
       "<style scoped>\n",
       "    .dataframe tbody tr th:only-of-type {\n",
       "        vertical-align: middle;\n",
       "    }\n",
       "\n",
       "    .dataframe tbody tr th {\n",
       "        vertical-align: top;\n",
       "    }\n",
       "\n",
       "    .dataframe thead th {\n",
       "        text-align: right;\n",
       "    }\n",
       "</style>\n",
       "<table border=\"1\" class=\"dataframe\">\n",
       "  <thead>\n",
       "    <tr style=\"text-align: right;\">\n",
       "      <th></th>\n",
       "      <th>Crime ID</th>\n",
       "      <th>Report #</th>\n",
       "      <th>Incident Address</th>\n",
       "      <th>Offense Description</th>\n",
       "      <th>Offense Category</th>\n",
       "      <th>Arrest Charge</th>\n",
       "      <th>Charge Description</th>\n",
       "      <th>State Offense Code</th>\n",
       "      <th>Incident Date &amp; Time</th>\n",
       "      <th>Incident Time (24h)</th>\n",
       "      <th>...</th>\n",
       "      <th>Census Block GEOID</th>\n",
       "      <th>Neighborhood</th>\n",
       "      <th>Council District</th>\n",
       "      <th>Zip Code</th>\n",
       "      <th>Longitude</th>\n",
       "      <th>Latitude</th>\n",
       "      <th>IBR Report Date</th>\n",
       "      <th>Location</th>\n",
       "      <th>uniq</th>\n",
       "      <th>year</th>\n",
       "    </tr>\n",
       "  </thead>\n",
       "  <tbody>\n",
       "    <tr>\n",
       "      <th>0</th>\n",
       "      <td>3104611</td>\n",
       "      <td>1708150123</td>\n",
       "      <td>5000 block of LANNOO ST</td>\n",
       "      <td>MOTOR VEHICLE THEFT</td>\n",
       "      <td>STOLEN VEHICLE</td>\n",
       "      <td>24001</td>\n",
       "      <td>MOTOR VEHICLE THEFT</td>\n",
       "      <td>2401</td>\n",
       "      <td>08/14/2017 05:00:00 PM</td>\n",
       "      <td>1700</td>\n",
       "      <td>...</td>\n",
       "      <td>2.616350e+14</td>\n",
       "      <td>Cornerstone Village</td>\n",
       "      <td>4.0</td>\n",
       "      <td>NaN</td>\n",
       "      <td>-82.912447</td>\n",
       "      <td>42.415611</td>\n",
       "      <td>08/16/2017 01:48:20 PM</td>\n",
       "      <td>location\\n(42.41561, -82.91245)</td>\n",
       "      <td>56,994</td>\n",
       "      <td>2017</td>\n",
       "    </tr>\n",
       "    <tr>\n",
       "      <th>1</th>\n",
       "      <td>3107714</td>\n",
       "      <td>1708220195</td>\n",
       "      <td>Corner of MACKENZIE ST and MARK TWAIN ST</td>\n",
       "      <td>ROBBERY</td>\n",
       "      <td>ROBBERY</td>\n",
       "      <td>12000</td>\n",
       "      <td>ROBBERY</td>\n",
       "      <td>1201</td>\n",
       "      <td>08/22/2017 02:04:00 PM</td>\n",
       "      <td>1404</td>\n",
       "      <td>...</td>\n",
       "      <td>2.616350e+14</td>\n",
       "      <td>Joy-Schaefer</td>\n",
       "      <td>7.0</td>\n",
       "      <td>NaN</td>\n",
       "      <td>-83.184692</td>\n",
       "      <td>42.356050</td>\n",
       "      <td>09/13/2017 10:16:26 AM</td>\n",
       "      <td>location\\n(42.35605, -83.18469)</td>\n",
       "      <td>58,749</td>\n",
       "      <td>2017</td>\n",
       "    </tr>\n",
       "    <tr>\n",
       "      <th>2</th>\n",
       "      <td>3104644</td>\n",
       "      <td>1708150160</td>\n",
       "      <td>16900 block of W CHICAGO ST</td>\n",
       "      <td>LARCENY - PERSONAL PROPERTY FROM MOTOR VEHICLE</td>\n",
       "      <td>LARCENY</td>\n",
       "      <td>23005</td>\n",
       "      <td>LARCENY - PERSONAL PROPERTY FROM MOTOR VEHICLE</td>\n",
       "      <td>2305</td>\n",
       "      <td>08/14/2017 04:00:00 PM</td>\n",
       "      <td>1600</td>\n",
       "      <td>...</td>\n",
       "      <td>2.616350e+14</td>\n",
       "      <td>Joy Community</td>\n",
       "      <td>7.0</td>\n",
       "      <td>NaN</td>\n",
       "      <td>-83.211945</td>\n",
       "      <td>42.365163</td>\n",
       "      <td>08/16/2017 01:48:20 PM</td>\n",
       "      <td>location\\n(42.36516, -83.21195)</td>\n",
       "      <td>57,012</td>\n",
       "      <td>2017</td>\n",
       "    </tr>\n",
       "    <tr>\n",
       "      <th>3</th>\n",
       "      <td>3104651</td>\n",
       "      <td>1708150159</td>\n",
       "      <td>11700 block of NASHVILLE ST</td>\n",
       "      <td>BURGLARY - FORCED ENTRY</td>\n",
       "      <td>BURGLARY</td>\n",
       "      <td>22001</td>\n",
       "      <td>BURGLARY - FORCED ENTRY</td>\n",
       "      <td>2201</td>\n",
       "      <td>08/13/2017 03:00:00 PM</td>\n",
       "      <td>1500</td>\n",
       "      <td>...</td>\n",
       "      <td>2.616350e+14</td>\n",
       "      <td>LaSalle College Park</td>\n",
       "      <td>4.0</td>\n",
       "      <td>NaN</td>\n",
       "      <td>-83.000401</td>\n",
       "      <td>42.417198</td>\n",
       "      <td>08/28/2017 09:30:06 AM</td>\n",
       "      <td>location\\n(42.4172, -83.0004)</td>\n",
       "      <td>57,017</td>\n",
       "      <td>2017</td>\n",
       "    </tr>\n",
       "    <tr>\n",
       "      <th>4</th>\n",
       "      <td>3104659</td>\n",
       "      <td>1708150184</td>\n",
       "      <td>19600 block of SCHOENHERR ST</td>\n",
       "      <td>FAMILY - OTHER</td>\n",
       "      <td>FAMILY OFFENSE</td>\n",
       "      <td>38003</td>\n",
       "      <td>FAMILY - OTHER</td>\n",
       "      <td>3803</td>\n",
       "      <td>08/15/2017 12:41:00 PM</td>\n",
       "      <td>1241</td>\n",
       "      <td>...</td>\n",
       "      <td>2.616350e+14</td>\n",
       "      <td>Pulaski</td>\n",
       "      <td>3.0</td>\n",
       "      <td>NaN</td>\n",
       "      <td>-82.985353</td>\n",
       "      <td>42.439755</td>\n",
       "      <td>08/16/2017 01:48:20 PM</td>\n",
       "      <td>location\\n(42.43975, -82.98535)</td>\n",
       "      <td>57,023</td>\n",
       "      <td>2017</td>\n",
       "    </tr>\n",
       "  </tbody>\n",
       "</table>\n",
       "<p>5 rows × 25 columns</p>\n",
       "</div>"
      ],
      "text/plain": [
       "   Crime ID    Report #                          Incident Address  \\\n",
       "0   3104611  1708150123                   5000 block of LANNOO ST   \n",
       "1   3107714  1708220195  Corner of MACKENZIE ST and MARK TWAIN ST   \n",
       "2   3104644  1708150160               16900 block of W CHICAGO ST   \n",
       "3   3104651  1708150159               11700 block of NASHVILLE ST   \n",
       "4   3104659  1708150184              19600 block of SCHOENHERR ST   \n",
       "\n",
       "                              Offense Description Offense Category  \\\n",
       "0                             MOTOR VEHICLE THEFT   STOLEN VEHICLE   \n",
       "1                                         ROBBERY          ROBBERY   \n",
       "2  LARCENY - PERSONAL PROPERTY FROM MOTOR VEHICLE          LARCENY   \n",
       "3                         BURGLARY - FORCED ENTRY         BURGLARY   \n",
       "4                                  FAMILY - OTHER   FAMILY OFFENSE   \n",
       "\n",
       "  Arrest Charge                              Charge Description  \\\n",
       "0         24001                             MOTOR VEHICLE THEFT   \n",
       "1         12000                                         ROBBERY   \n",
       "2         23005  LARCENY - PERSONAL PROPERTY FROM MOTOR VEHICLE   \n",
       "3         22001                         BURGLARY - FORCED ENTRY   \n",
       "4         38003                                  FAMILY - OTHER   \n",
       "\n",
       "   State Offense Code    Incident Date & Time  Incident Time (24h)  ...   \\\n",
       "0                2401  08/14/2017 05:00:00 PM                 1700  ...    \n",
       "1                1201  08/22/2017 02:04:00 PM                 1404  ...    \n",
       "2                2305  08/14/2017 04:00:00 PM                 1600  ...    \n",
       "3                2201  08/13/2017 03:00:00 PM                 1500  ...    \n",
       "4                3803  08/15/2017 12:41:00 PM                 1241  ...    \n",
       "\n",
       "   Census Block GEOID          Neighborhood  Council District Zip Code  \\\n",
       "0        2.616350e+14   Cornerstone Village               4.0      NaN   \n",
       "1        2.616350e+14          Joy-Schaefer               7.0      NaN   \n",
       "2        2.616350e+14         Joy Community               7.0      NaN   \n",
       "3        2.616350e+14  LaSalle College Park               4.0      NaN   \n",
       "4        2.616350e+14               Pulaski               3.0      NaN   \n",
       "\n",
       "   Longitude   Latitude         IBR Report Date  \\\n",
       "0 -82.912447  42.415611  08/16/2017 01:48:20 PM   \n",
       "1 -83.184692  42.356050  09/13/2017 10:16:26 AM   \n",
       "2 -83.211945  42.365163  08/16/2017 01:48:20 PM   \n",
       "3 -83.000401  42.417198  08/28/2017 09:30:06 AM   \n",
       "4 -82.985353  42.439755  08/16/2017 01:48:20 PM   \n",
       "\n",
       "                          Location    uniq  year  \n",
       "0  location\\n(42.41561, -82.91245)  56,994  2017  \n",
       "1  location\\n(42.35605, -83.18469)  58,749  2017  \n",
       "2  location\\n(42.36516, -83.21195)  57,012  2017  \n",
       "3    location\\n(42.4172, -83.0004)  57,017  2017  \n",
       "4  location\\n(42.43975, -82.98535)  57,023  2017  \n",
       "\n",
       "[5 rows x 25 columns]"
      ]
     },
     "execution_count": 11,
     "metadata": {},
     "output_type": "execute_result"
    }
   ],
   "source": [
    "dummy.head()"
   ]
  },
  {
   "cell_type": "code",
   "execution_count": 36,
   "metadata": {},
   "outputs": [
    {
     "data": {
      "text/plain": [
       "0"
      ]
     },
     "execution_count": 36,
     "metadata": {},
     "output_type": "execute_result"
    }
   ],
   "source": [
    "dummy.loc[(dummy['Offense Category'] =='LIQUOR'),'Offense Category'].count()"
   ]
  },
  {
   "cell_type": "code",
   "execution_count": 13,
   "metadata": {},
   "outputs": [
    {
     "data": {
      "text/plain": [
       "165156"
      ]
     },
     "execution_count": 13,
     "metadata": {},
     "output_type": "execute_result"
    }
   ],
   "source": [
    "166268 - 289 - 823"
   ]
  },
  {
   "cell_type": "code",
   "execution_count": 14,
   "metadata": {},
   "outputs": [],
   "source": [
    "liq_list =dummy.loc[(dummy['Offense Category'] == 'LIQUOR')]"
   ]
  },
  {
   "cell_type": "code",
   "execution_count": 15,
   "metadata": {},
   "outputs": [],
   "source": [
    "run_list =dummy.loc[(dummy['Offense Category'] == 'RUNAWAY')]"
   ]
  },
  {
   "cell_type": "code",
   "execution_count": 16,
   "metadata": {},
   "outputs": [],
   "source": [
    "pol_list =dummy.loc[(dummy['Offense Category'] == 'OBSTRUCTING THE POLICE')]"
   ]
  },
  {
   "cell_type": "code",
   "execution_count": 17,
   "metadata": {},
   "outputs": [
    {
     "data": {
      "text/plain": [
       "Int64Index([   126,    733,   1497,   2150,   3025,   3622,   4071,   4095,\n",
       "              6564,   6565,\n",
       "            ...\n",
       "            158746, 159004, 159715, 159965, 162670, 163302, 163461, 163578,\n",
       "            163622, 165618],\n",
       "           dtype='int64', length=289)"
      ]
     },
     "execution_count": 17,
     "metadata": {},
     "output_type": "execute_result"
    }
   ],
   "source": [
    "liq_list.index"
   ]
  },
  {
   "cell_type": "code",
   "execution_count": 18,
   "metadata": {},
   "outputs": [],
   "source": [
    "try:\n",
    "    dummy = dummy.drop(liq_list.index, axis = 0)\n",
    "except:\n",
    "    print('not contain')"
   ]
  },
  {
   "cell_type": "code",
   "execution_count": 19,
   "metadata": {},
   "outputs": [],
   "source": [
    "try:\n",
    "    dummy = dummy.drop(run_list.index, axis = 0)\n",
    "except:\n",
    "    print('not contain')"
   ]
  },
  {
   "cell_type": "code",
   "execution_count": 20,
   "metadata": {},
   "outputs": [],
   "source": [
    "try:\n",
    "    dummy = dummy.drop(pol_list.index, axis = 0)\n",
    "except:\n",
    "    print('not contain')"
   ]
  },
  {
   "cell_type": "code",
   "execution_count": 21,
   "metadata": {},
   "outputs": [
    {
     "data": {
      "text/plain": [
       "(164656, 25)"
      ]
     },
     "execution_count": 21,
     "metadata": {},
     "output_type": "execute_result"
    }
   ],
   "source": [
    "dummy.shape"
   ]
  },
  {
   "cell_type": "code",
   "execution_count": 22,
   "metadata": {},
   "outputs": [
    {
     "data": {
      "text/html": [
       "<div>\n",
       "<style scoped>\n",
       "    .dataframe tbody tr th:only-of-type {\n",
       "        vertical-align: middle;\n",
       "    }\n",
       "\n",
       "    .dataframe tbody tr th {\n",
       "        vertical-align: top;\n",
       "    }\n",
       "\n",
       "    .dataframe thead th {\n",
       "        text-align: right;\n",
       "    }\n",
       "</style>\n",
       "<table border=\"1\" class=\"dataframe\">\n",
       "  <thead>\n",
       "    <tr style=\"text-align: right;\">\n",
       "      <th></th>\n",
       "      <th>Crime ID</th>\n",
       "      <th>Report #</th>\n",
       "      <th>Incident Address</th>\n",
       "      <th>Offense Description</th>\n",
       "      <th>Offense Category</th>\n",
       "      <th>Arrest Charge</th>\n",
       "      <th>Charge Description</th>\n",
       "      <th>State Offense Code</th>\n",
       "      <th>Incident Date &amp; Time</th>\n",
       "      <th>Incident Time (24h)</th>\n",
       "      <th>...</th>\n",
       "      <th>Census Block GEOID</th>\n",
       "      <th>Neighborhood</th>\n",
       "      <th>Council District</th>\n",
       "      <th>Zip Code</th>\n",
       "      <th>Longitude</th>\n",
       "      <th>Latitude</th>\n",
       "      <th>IBR Report Date</th>\n",
       "      <th>Location</th>\n",
       "      <th>uniq</th>\n",
       "      <th>year</th>\n",
       "    </tr>\n",
       "  </thead>\n",
       "  <tbody>\n",
       "  </tbody>\n",
       "</table>\n",
       "<p>0 rows × 25 columns</p>\n",
       "</div>"
      ],
      "text/plain": [
       "Empty DataFrame\n",
       "Columns: [Crime ID, Report #, Incident Address, Offense Description, Offense Category, Arrest Charge, Charge Description, State Offense Code, Incident Date & Time, Incident Time (24h), Day of Week (Sunday is 1), Hour of Day, Year, Scout Car Area, Precinct Number, Census Block GEOID, Neighborhood, Council District, Zip Code, Longitude, Latitude, IBR Report Date, Location, uniq, year]\n",
       "Index: []\n",
       "\n",
       "[0 rows x 25 columns]"
      ]
     },
     "execution_count": 22,
     "metadata": {},
     "output_type": "execute_result"
    }
   ],
   "source": [
    "dummy.loc[(dummy['Offense Category'] =='LIQUOR')]"
   ]
  },
  {
   "cell_type": "code",
   "execution_count": 23,
   "metadata": {},
   "outputs": [
    {
     "data": {
      "text/html": [
       "<div>\n",
       "<style scoped>\n",
       "    .dataframe tbody tr th:only-of-type {\n",
       "        vertical-align: middle;\n",
       "    }\n",
       "\n",
       "    .dataframe tbody tr th {\n",
       "        vertical-align: top;\n",
       "    }\n",
       "\n",
       "    .dataframe thead th {\n",
       "        text-align: right;\n",
       "    }\n",
       "</style>\n",
       "<table border=\"1\" class=\"dataframe\">\n",
       "  <thead>\n",
       "    <tr style=\"text-align: right;\">\n",
       "      <th></th>\n",
       "      <th>Crime ID</th>\n",
       "      <th>Report #</th>\n",
       "      <th>Incident Address</th>\n",
       "      <th>Offense Description</th>\n",
       "      <th>Offense Category</th>\n",
       "      <th>Arrest Charge</th>\n",
       "      <th>Charge Description</th>\n",
       "      <th>State Offense Code</th>\n",
       "      <th>Incident Date &amp; Time</th>\n",
       "      <th>Incident Time (24h)</th>\n",
       "      <th>...</th>\n",
       "      <th>Census Block GEOID</th>\n",
       "      <th>Neighborhood</th>\n",
       "      <th>Council District</th>\n",
       "      <th>Zip Code</th>\n",
       "      <th>Longitude</th>\n",
       "      <th>Latitude</th>\n",
       "      <th>IBR Report Date</th>\n",
       "      <th>Location</th>\n",
       "      <th>uniq</th>\n",
       "      <th>year</th>\n",
       "    </tr>\n",
       "  </thead>\n",
       "  <tbody>\n",
       "  </tbody>\n",
       "</table>\n",
       "<p>0 rows × 25 columns</p>\n",
       "</div>"
      ],
      "text/plain": [
       "Empty DataFrame\n",
       "Columns: [Crime ID, Report #, Incident Address, Offense Description, Offense Category, Arrest Charge, Charge Description, State Offense Code, Incident Date & Time, Incident Time (24h), Day of Week (Sunday is 1), Hour of Day, Year, Scout Car Area, Precinct Number, Census Block GEOID, Neighborhood, Council District, Zip Code, Longitude, Latitude, IBR Report Date, Location, uniq, year]\n",
       "Index: []\n",
       "\n",
       "[0 rows x 25 columns]"
      ]
     },
     "execution_count": 23,
     "metadata": {},
     "output_type": "execute_result"
    }
   ],
   "source": [
    "dummy.loc[(dummy['Offense Category'] =='RUNAWAY')]"
   ]
  },
  {
   "cell_type": "code",
   "execution_count": 24,
   "metadata": {},
   "outputs": [
    {
     "data": {
      "text/html": [
       "<div>\n",
       "<style scoped>\n",
       "    .dataframe tbody tr th:only-of-type {\n",
       "        vertical-align: middle;\n",
       "    }\n",
       "\n",
       "    .dataframe tbody tr th {\n",
       "        vertical-align: top;\n",
       "    }\n",
       "\n",
       "    .dataframe thead th {\n",
       "        text-align: right;\n",
       "    }\n",
       "</style>\n",
       "<table border=\"1\" class=\"dataframe\">\n",
       "  <thead>\n",
       "    <tr style=\"text-align: right;\">\n",
       "      <th></th>\n",
       "      <th>Crime ID</th>\n",
       "      <th>Report #</th>\n",
       "      <th>Incident Address</th>\n",
       "      <th>Offense Description</th>\n",
       "      <th>Offense Category</th>\n",
       "      <th>Arrest Charge</th>\n",
       "      <th>Charge Description</th>\n",
       "      <th>State Offense Code</th>\n",
       "      <th>Incident Date &amp; Time</th>\n",
       "      <th>Incident Time (24h)</th>\n",
       "      <th>...</th>\n",
       "      <th>Census Block GEOID</th>\n",
       "      <th>Neighborhood</th>\n",
       "      <th>Council District</th>\n",
       "      <th>Zip Code</th>\n",
       "      <th>Longitude</th>\n",
       "      <th>Latitude</th>\n",
       "      <th>IBR Report Date</th>\n",
       "      <th>Location</th>\n",
       "      <th>uniq</th>\n",
       "      <th>year</th>\n",
       "    </tr>\n",
       "  </thead>\n",
       "  <tbody>\n",
       "  </tbody>\n",
       "</table>\n",
       "<p>0 rows × 25 columns</p>\n",
       "</div>"
      ],
      "text/plain": [
       "Empty DataFrame\n",
       "Columns: [Crime ID, Report #, Incident Address, Offense Description, Offense Category, Arrest Charge, Charge Description, State Offense Code, Incident Date & Time, Incident Time (24h), Day of Week (Sunday is 1), Hour of Day, Year, Scout Car Area, Precinct Number, Census Block GEOID, Neighborhood, Council District, Zip Code, Longitude, Latitude, IBR Report Date, Location, uniq, year]\n",
       "Index: []\n",
       "\n",
       "[0 rows x 25 columns]"
      ]
     },
     "execution_count": 24,
     "metadata": {},
     "output_type": "execute_result"
    }
   ],
   "source": [
    "dummy.loc[(dummy['Offense Category'] =='OBSTRUCTING THE POLICE')]"
   ]
  },
  {
   "cell_type": "code",
   "execution_count": 25,
   "metadata": {},
   "outputs": [],
   "source": [
    "dummy.to_csv('destroit_edit.csv')"
   ]
  },
  {
   "cell_type": "code",
   "execution_count": 26,
   "metadata": {},
   "outputs": [
    {
     "data": {
      "text/plain": [
       "7.374161889029248"
      ]
     },
     "execution_count": 26,
     "metadata": {},
     "output_type": "execute_result"
    }
   ],
   "source": [
    "dummy[(dummy['Offense Category'] == 'FRAUD')].count()[0]/dummy.shape[0] * 100"
   ]
  },
  {
   "cell_type": "code",
   "execution_count": 27,
   "metadata": {},
   "outputs": [],
   "source": [
    "%matplotlib inline\n",
    "import seaborn as sns\n"
   ]
  },
  {
   "cell_type": "code",
   "execution_count": 29,
   "metadata": {},
   "outputs": [],
   "source": [
    "dummy_crime = (dummy['Offense Category'])"
   ]
  },
  {
   "cell_type": "code",
   "execution_count": 40,
   "metadata": {},
   "outputs": [
    {
     "data": {
      "image/png": "[encoded data removed]",
      "text/plain": [
       "<Figure size 3600x2160 with 1 Axes>"
      ]
     },
     "metadata": {},
     "output_type": "display_data"
    }
   ],
   "source": [
    "f,ax=plt.subplots(1,1,figsize=(50,30))\n",
    "\n",
    "sns_plot = sns.countplot('Offense Category',data = dummy)\n",
    "fig = sns_plot.get_figure()\n",
    "fig.savefig('pic.png', dpi = 300)"
   ]
  },
  {
   "cell_type": "code",
   "execution_count": 34,
   "metadata": {},
   "outputs": [],
   "source": [
    "dummy.loc[(dummy['Offense Category'] == 'JUSTIFIABLE HOMICIDE'),'Offense Category']= 'HOMICIDE'"
   ]
  },
  {
   "cell_type": "code",
   "execution_count": 35,
   "metadata": {},
   "outputs": [],
   "source": [
    "dummy.loc[(dummy['Offense Category'] == 'SOLICITATION'),'Offense Category']= 'HOMICIDE'"
   ]
  },
  {
   "cell_type": "code",
   "execution_count": 39,
   "metadata": {},
   "outputs": [
    {
     "data": {
      "text/plain": [
       "555"
      ]
     },
     "execution_count": 39,
     "metadata": {},
     "output_type": "execute_result"
    }
   ],
   "source": [
    "dummy.loc[(dummy['Offense Category'] =='HOMICIDE'),'Offense Category'].count()"
   ]
  },
  {
   "cell_type": "code",
   "execution_count": 40,
   "metadata": {},
   "outputs": [
    {
     "data": {
      "text/plain": [
       "0"
      ]
     },
     "execution_count": 40,
     "metadata": {},
     "output_type": "execute_result"
    }
   ],
   "source": [
    "dummy.loc[(dummy['Offense Category'] =='SOLICITATAION'),'Offense Category'].count()"
   ]
  },
  {
   "cell_type": "code",
   "execution_count": 41,
   "metadata": {},
   "outputs": [],
   "source": [
    "dummy.loc[(dummy['Offense Category'] == 'BURGLARY'),'Offense Category']= 'THEFT'"
   ]
  },
  {
   "cell_type": "code",
   "execution_count": 42,
   "metadata": {},
   "outputs": [],
   "source": [
    "dummy.loc[(dummy['Offense Category'] == 'STOLEN PROPERTY'),'Offense Category']= 'THEFT'"
   ]
  },
  {
   "cell_type": "code",
   "execution_count": 43,
   "metadata": {},
   "outputs": [],
   "source": [
    "dummy.loc[(dummy['Offense Category'] == 'LARCENY'),'Offense Category']= 'THEFT'"
   ]
  },
  {
   "cell_type": "code",
   "execution_count": 44,
   "metadata": {},
   "outputs": [],
   "source": [
    "dummy.loc[(dummy['Offense Category'] == 'STOLEN VEHICLE'),'Offense Category']= 'THEFT'"
   ]
  },
  {
   "cell_type": "code",
   "execution_count": 48,
   "metadata": {},
   "outputs": [
    {
     "name": "stdout",
     "output_type": "stream",
     "text": [
      "0\n",
      "0\n",
      "45538\n"
     ]
    }
   ],
   "source": [
    "assaults = ['FAMILY OFFENSE' ,'AGGRAVATED ASSAULT' ,'ASSAULT']\n",
    "for i in assaults:\n",
    "    dummy.loc[(dummy['Offense Category'] == i),'Offense Category']= 'ASSAULT'\n",
    "    print(dummy.loc[(dummy['Offense Category'] == i),'Offense Category'].count())"
   ]
  },
  {
   "cell_type": "code",
   "execution_count": 50,
   "metadata": {},
   "outputs": [
    {
     "name": "stdout",
     "output_type": "stream",
     "text": [
      "508\n",
      "0\n"
     ]
    }
   ],
   "source": [
    "others = ['OTHER','MISCELLANEOUS']\n",
    "for i in others:\n",
    "    dummy.loc[(dummy['Offense Category'] == i),'Offense Category']= 'OTHER'\n",
    "    print(dummy.loc[(dummy['Offense Category'] == i),'Offense Category'].count())"
   ]
  },
  {
   "cell_type": "code",
   "execution_count": 55,
   "metadata": {},
   "outputs": [
    {
     "data": {
      "image/png": "[encoded data removed]",
      "text/plain": [
       "<Figure size 3600x2160 with 1 Axes>"
      ]
     },
     "metadata": {},
     "output_type": "display_data"
    }
   ],
   "source": [
    "f,ax=plt.subplots(1,1,figsize=(50,30))\n",
    "\n",
    "sns_plot = sns.countplot('Offense Category',data = dummy)\n",
    "fig = sns_plot.get_figure()\n",
    "fig.savefig('pic_result.png', dpi = 300)"
   ]
  },
  {
   "cell_type": "code",
   "execution_count": 52,
   "metadata": {},
   "outputs": [
    {
     "data": {
      "text/plain": [
       "array(['THEFT', 'ROBBERY', 'ASSAULT', 'DANGEROUS DRUGS',\n",
       "       'DAMAGE TO PROPERTY', 'SEX OFFENSES', 'WEAPONS OFFENSES',\n",
       "       'DISORDERLY CONDUCT', 'HOMICIDE', 'FORGERY', 'OUIL', 'FRAUD',\n",
       "       'SEXUAL ASSAULT', 'OBSTRUCTING JUDICIARY', 'ARSON', 'KIDNAPPING',\n",
       "       'OTHER', 'EXTORTION', 'GAMBLING'], dtype=object)"
      ]
     },
     "execution_count": 52,
     "metadata": {},
     "output_type": "execute_result"
    }
   ],
   "source": [
    "dummy['Offense Category'].unique()"
   ]
  },
  {
   "cell_type": "code",
   "execution_count": 53,
   "metadata": {},
   "outputs": [
    {
     "data": {
      "text/plain": [
       "19"
      ]
     },
     "execution_count": 53,
     "metadata": {},
     "output_type": "execute_result"
    }
   ],
   "source": [
    "len(dummy['Offense Category'].unique())"
   ]
  },
  {
   "cell_type": "code",
   "execution_count": 54,
   "metadata": {},
   "outputs": [
    {
     "data": {
      "text/plain": [
       "30"
      ]
     },
     "execution_count": 54,
     "metadata": {},
     "output_type": "execute_result"
    }
   ],
   "source": [
    "len(crime_data['Offense Category'].unique())"
   ]
  },
  {
   "cell_type": "code",
   "execution_count": 63,
   "metadata": {},
   "outputs": [
    {
     "data": {
      "image/png": "[encoded data removed]",
      "text/plain": [
       "<Figure size 1440x576 with 1 Axes>"
      ]
     },
     "metadata": {},
     "output_type": "display_data"
    }
   ],
   "source": [
    "f,ax = plt.subplots(1,1,figsize = (20,8))\n",
    "plt_pie =dummy['Offense Category'].value_counts().plot.pie(explode = [0,0,0,0,0,0,0,0,0,0,0,0,0,0,0,0,0,0,0],autopct='%1.1f%%',ax = ax,shadow = True)\n",
    "fig = plt_pie.get_figure()\n",
    "fig.savefig('pic_pie.png', dpi = 300)"
   ]
  },
  {
   "cell_type": "code",
   "execution_count": null,
   "metadata": {},
   "outputs": [],
   "source": []
  }
 ],
 "metadata": {
  "kernelspec": {
   "display_name": "Python 3",
   "language": "python",
   "name": "python3"
  },
  "language_info": {
   "codemirror_mode": {
    "name": "ipython",
    "version": 3
   },
   "file_extension": ".py",
   "mimetype": "text/x-python",
   "name": "python",
   "nbconvert_exporter": "python",
   "pygments_lexer": "ipython3",
   "version": "3.6.5"
  }
 },
 "nbformat": 4,
 "nbformat_minor": 2
}
